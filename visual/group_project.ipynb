{
 "cells": [
  {
   "cell_type": "code",
   "execution_count": 158,
   "id": "edf34576",
   "metadata": {},
   "outputs": [],
   "source": [
    "import pandas as pd\n",
    "import matplotlib.pyplot as plt\n",
    "import seaborn as sns\n",
    "from Bio import SeqIO\n",
    "from dna_features_viewer import GraphicFeature, GraphicRecord\n",
    "# from tabulate import tabulate"
   ]
  },
  {
   "cell_type": "code",
   "execution_count": 31,
   "id": "93bc4e73",
   "metadata": {},
   "outputs": [
    {
     "data": {
      "text/html": [
       "<div>\n",
       "<style scoped>\n",
       "    .dataframe tbody tr th:only-of-type {\n",
       "        vertical-align: middle;\n",
       "    }\n",
       "\n",
       "    .dataframe tbody tr th {\n",
       "        vertical-align: top;\n",
       "    }\n",
       "\n",
       "    .dataframe thead th {\n",
       "        text-align: right;\n",
       "    }\n",
       "</style>\n",
       "<table border=\"1\" class=\"dataframe\">\n",
       "  <thead>\n",
       "    <tr style=\"text-align: right;\">\n",
       "      <th></th>\n",
       "      <th>babesia_bigemina_protein.faa</th>\n",
       "      <th>babesia_bovis_T2Bo_protein.faa</th>\n",
       "      <th>babesia_microti_strain_RI_protein.faa</th>\n",
       "      <th>babesia_ovata_protein.faa</th>\n",
       "      <th>babesia_sp._Xinjiang_protein.faa</th>\n",
       "      <th>besnoitia_besnoiti_protein.faa</th>\n",
       "      <th>cryptosporidium_felis_protein.faa</th>\n",
       "      <th>cryptosporidium_hominis_TU502_protein.faa</th>\n",
       "      <th>cryptosporidium_muris_RN66_protein.faa</th>\n",
       "      <th>cryptosporidium_parvum_Iowa_II_protein.faa</th>\n",
       "      <th>...</th>\n",
       "      <th>plasmodium_vinckei_protein.faa</th>\n",
       "      <th>plasmodium_vivax_protein.faa</th>\n",
       "      <th>plasmodium_yoelii_protein.faa</th>\n",
       "      <th>porospora_cf._gigantea_A_protein.faa</th>\n",
       "      <th>porospora_cf._gigantea_B_protein.faa</th>\n",
       "      <th>theileria_annulata_protein.faa</th>\n",
       "      <th>theileria_equi_strain_WA_protein.faa</th>\n",
       "      <th>theileria_orientalis_strain_Shintoku_protein.faa</th>\n",
       "      <th>theileria_parva_strain_Muguga_protein.faa</th>\n",
       "      <th>toxoplasma_gondii_ME49_protein.faa</th>\n",
       "    </tr>\n",
       "  </thead>\n",
       "  <tbody>\n",
       "    <tr>\n",
       "      <th>0</th>\n",
       "      <td>CDR97401.1</td>\n",
       "      <td>EDO08491.1</td>\n",
       "      <td>CCF75508.1</td>\n",
       "      <td>GBE58587.1</td>\n",
       "      <td>ORM39934.1</td>\n",
       "      <td>PFH33007.1</td>\n",
       "      <td>KAF7458848.1</td>\n",
       "      <td>EAL36206.1</td>\n",
       "      <td>EEA04813.1</td>\n",
       "      <td>EAK88225.1</td>\n",
       "      <td>...</td>\n",
       "      <td>VEV58789.1</td>\n",
       "      <td>EDL47232.1</td>\n",
       "      <td>VTZ81344.1</td>\n",
       "      <td>KAH0487941.1</td>\n",
       "      <td>KAH0475830.1</td>\n",
       "      <td>CAI76849.1</td>\n",
       "      <td>AFZ81684.1</td>\n",
       "      <td>BAM41710.1</td>\n",
       "      <td>EAN32198.2</td>\n",
       "      <td>EPT30808.1</td>\n",
       "    </tr>\n",
       "    <tr>\n",
       "      <th>1</th>\n",
       "      <td>CDR97449.1</td>\n",
       "      <td>EDO08531.1</td>\n",
       "      <td>CTQ41552.1</td>\n",
       "      <td>GBE58534.1</td>\n",
       "      <td>*</td>\n",
       "      <td>PFH36348.1</td>\n",
       "      <td>KAF7459085.1</td>\n",
       "      <td>EAL37253.1</td>\n",
       "      <td>EEA07088.1</td>\n",
       "      <td>EAK90283.1</td>\n",
       "      <td>...</td>\n",
       "      <td>VEV56045.1</td>\n",
       "      <td>EDL45028.1</td>\n",
       "      <td>VTZ77524.1</td>\n",
       "      <td>KAH0486314.1</td>\n",
       "      <td>KAH0483389.1</td>\n",
       "      <td>CAI76889.1</td>\n",
       "      <td>AFZ81729.1</td>\n",
       "      <td>BAM41668.1</td>\n",
       "      <td>EAN32247.1</td>\n",
       "      <td>EPT30679.1</td>\n",
       "    </tr>\n",
       "  </tbody>\n",
       "</table>\n",
       "<p>2 rows × 44 columns</p>\n",
       "</div>"
      ],
      "text/plain": [
       "  babesia_bigemina_protein.faa babesia_bovis_T2Bo_protein.faa  \\\n",
       "0                   CDR97401.1                     EDO08491.1   \n",
       "1                   CDR97449.1                     EDO08531.1   \n",
       "\n",
       "  babesia_microti_strain_RI_protein.faa babesia_ovata_protein.faa  \\\n",
       "0                            CCF75508.1                GBE58587.1   \n",
       "1                            CTQ41552.1                GBE58534.1   \n",
       "\n",
       "  babesia_sp._Xinjiang_protein.faa besnoitia_besnoiti_protein.faa  \\\n",
       "0                       ORM39934.1                     PFH33007.1   \n",
       "1                                *                     PFH36348.1   \n",
       "\n",
       "  cryptosporidium_felis_protein.faa cryptosporidium_hominis_TU502_protein.faa  \\\n",
       "0                      KAF7458848.1                                EAL36206.1   \n",
       "1                      KAF7459085.1                                EAL37253.1   \n",
       "\n",
       "  cryptosporidium_muris_RN66_protein.faa  \\\n",
       "0                             EEA04813.1   \n",
       "1                             EEA07088.1   \n",
       "\n",
       "  cryptosporidium_parvum_Iowa_II_protein.faa  ...  \\\n",
       "0                                 EAK88225.1  ...   \n",
       "1                                 EAK90283.1  ...   \n",
       "\n",
       "  plasmodium_vinckei_protein.faa plasmodium_vivax_protein.faa  \\\n",
       "0                     VEV58789.1                   EDL47232.1   \n",
       "1                     VEV56045.1                   EDL45028.1   \n",
       "\n",
       "  plasmodium_yoelii_protein.faa porospora_cf._gigantea_A_protein.faa  \\\n",
       "0                    VTZ81344.1                         KAH0487941.1   \n",
       "1                    VTZ77524.1                         KAH0486314.1   \n",
       "\n",
       "  porospora_cf._gigantea_B_protein.faa theileria_annulata_protein.faa  \\\n",
       "0                         KAH0475830.1                     CAI76849.1   \n",
       "1                         KAH0483389.1                     CAI76889.1   \n",
       "\n",
       "  theileria_equi_strain_WA_protein.faa  \\\n",
       "0                           AFZ81684.1   \n",
       "1                           AFZ81729.1   \n",
       "\n",
       "  theileria_orientalis_strain_Shintoku_protein.faa  \\\n",
       "0                                       BAM41710.1   \n",
       "1                                       BAM41668.1   \n",
       "\n",
       "  theileria_parva_strain_Muguga_protein.faa toxoplasma_gondii_ME49_protein.faa  \n",
       "0                                EAN32198.2                         EPT30808.1  \n",
       "1                                EAN32247.1                         EPT30679.1  \n",
       "\n",
       "[2 rows x 44 columns]"
      ]
     },
     "execution_count": 31,
     "metadata": {},
     "output_type": "execute_result"
    }
   ],
   "source": [
    "df = pd.read_csv(\"./group/clusters_for_heatmap.tsv\", delimiter=\"\\t\").iloc[:2, 3:47]\n",
    "df"
   ]
  },
  {
   "cell_type": "code",
   "execution_count": 67,
   "id": "705b6d81",
   "metadata": {},
   "outputs": [],
   "source": [
    "for i in range(2):\n",
    "    with open(f'cluster_{i}.fasta', 'w') as f:\n",
    "        for j, name in enumerate(df.columns):\n",
    "            gene = df.iloc[i, j]\n",
    "            with open('./group/faa/'+name, 'r') as r:\n",
    "                allow_to_write = False\n",
    "                for line in r:\n",
    "                    if line.split(' ')[0] == '>'+gene:\n",
    "                        allow_to_write = True\n",
    "                        f.write('>'+gene+'\\n')\n",
    "                        continue\n",
    "                    if allow_to_write:\n",
    "                        if line[0] != '>':\n",
    "                            f.write(line)\n",
    "                        else:\n",
    "                            break"
   ]
  },
  {
   "cell_type": "markdown",
   "id": "36d377d2",
   "metadata": {},
   "source": [
    "# Alignment 1"
   ]
  },
  {
   "cell_type": "code",
   "execution_count": 68,
   "id": "6d3ac37c",
   "metadata": {},
   "outputs": [
    {
     "name": "stdout",
     "output_type": "stream",
     "text": [
      "\n",
      "muscle 5.1.linux64 [12f0e2]  8.1Gb RAM, 8 cores\n",
      "Built Jan 13 2022 23:17:13\n",
      "(C) Copyright 2004-2021 Robert C. Edgar.\n",
      "https://drive5.com\n",
      "\n",
      "Input: 23 seqs, avg length 188, max 204\n",
      "\n",
      "00:00 4.0Mb  CPU has 8 cores, running 8 threads\n",
      "00:01 533Mb   100.0% Calc posteriors\n",
      "00:01 533Mb   100.0% Consistency (1/2)\n",
      "00:01 533Mb   100.0% Consistency (2/2)\n",
      "00:01 533Mb   100.0% UPGMA5           \n",
      "00:01 534Mb   100.0% Refining\n"
     ]
    }
   ],
   "source": [
    "!./muscle5.1.linux_intel64 -align cluster_0.fasta -output cluster_0_aligned.fasta"
   ]
  },
  {
   "cell_type": "code",
   "execution_count": 69,
   "id": "f5d67f64",
   "metadata": {},
   "outputs": [
    {
     "name": "stdout",
     "output_type": "stream",
     "text": [
      "\n",
      "muscle 5.1.linux64 [12f0e2]  8.1Gb RAM, 8 cores\n",
      "Built Jan 13 2022 23:17:13\n",
      "(C) Copyright 2004-2021 Robert C. Edgar.\n",
      "https://drive5.com\n",
      "\n",
      "Input: 23 seqs, avg length 403, max 421\n",
      "\n",
      "00:00 4.0Mb  CPU has 8 cores, running 8 threads\n",
      "00:01 540Mb   100.0% Calc posteriors\n",
      "00:01 540Mb   100.0% Consistency (1/2)\n",
      "00:01 540Mb   100.0% Consistency (2/2)\n",
      "00:01 540Mb   100.0% UPGMA5           \n",
      "00:01 540Mb   100.0% Refining\n"
     ]
    }
   ],
   "source": [
    "!./muscle5.1.linux_intel64 -align cluster_1.fasta -output cluster_1_aligned.fasta"
   ]
  },
  {
   "cell_type": "code",
   "execution_count": 22,
   "id": "a12a7518",
   "metadata": {},
   "outputs": [
    {
     "name": "stdout",
     "output_type": "stream",
     "text": [
      "--2022-06-21 10:20:38--  ftp://ftp.ncbi.nlm.nih.gov/genomes/all/GCF/900/002/375/GCF_900002375.2_GCA_900002375/GCF_900002375.2_GCA_900002375_protein.faa.gz\n",
      "           => ‘GCF_900002375.2_GCA_900002375_protein.faa.gz’\n",
      "Resolving ftp.ncbi.nlm.nih.gov (ftp.ncbi.nlm.nih.gov)... 165.112.9.228, 130.14.250.13, 2607:f220:41f:250::228, ...\n",
      "Connecting to ftp.ncbi.nlm.nih.gov (ftp.ncbi.nlm.nih.gov)|165.112.9.228|:21... connected.\n",
      "Logging in as anonymous ... Logged in!\n",
      "==> SYST ... done.    ==> PWD ... done.\n",
      "==> TYPE I ... done.  ==> CWD (1) /genomes/all/GCF/900/002/375/GCF_900002375.2_GCA_900002375 ... done.\n",
      "==> SIZE GCF_900002375.2_GCA_900002375_protein.faa.gz ... 2068514\n",
      "==> PASV ... done.    ==> RETR GCF_900002375.2_GCA_900002375_protein.faa.gz ... done.\n",
      "Length: 2068514 (2.0M) (unauthoritative)\n",
      "\n",
      "GCF_900002375.2_GCA 100%[===================>]   1.97M  1.10MB/s    in 1.8s    \n",
      "\n",
      "2022-06-21 10:20:43 (1.10 MB/s) - ‘GCF_900002375.2_GCA_900002375_protein.faa.gz’ saved [2068514]\n",
      "\n"
     ]
    }
   ],
   "source": [
    "!wget ftp://ftp.ncbi.nlm.nih.gov/genomes/all/GCF/900/002/375/GCF_900002375.2_GCA_900002375/GCF_900002375.2_GCA_900002375_protein.faa.gz"
   ]
  },
  {
   "cell_type": "code",
   "execution_count": 25,
   "id": "2cba5872",
   "metadata": {},
   "outputs": [
    {
     "name": "stdout",
     "output_type": "stream",
     "text": [
      "--2022-06-21 10:23:13--  ftp://ftp.ncbi.nlm.nih.gov/genomes/all/GCF/900/002/335/GCF_900002335.2_PCHAS01/GCF_900002335.2_PCHAS01_protein.faa.gz\n",
      "           => ‘GCF_900002335.2_PCHAS01_protein.faa.gz’\n",
      "Resolving ftp.ncbi.nlm.nih.gov (ftp.ncbi.nlm.nih.gov)... 165.112.9.228, 130.14.250.13, 2607:f220:41f:250::229, ...\n",
      "Connecting to ftp.ncbi.nlm.nih.gov (ftp.ncbi.nlm.nih.gov)|165.112.9.228|:21... connected.\n",
      "Logging in as anonymous ... Logged in!\n",
      "==> SYST ... done.    ==> PWD ... done.\n",
      "==> TYPE I ... done.  ==> CWD (1) /genomes/all/GCF/900/002/335/GCF_900002335.2_PCHAS01 ... done.\n",
      "==> SIZE GCF_900002335.2_PCHAS01_protein.faa.gz ... 2117346\n",
      "==> PASV ... done.    ==> RETR GCF_900002335.2_PCHAS01_protein.faa.gz ... done.\n",
      "Length: 2117346 (2.0M) (unauthoritative)\n",
      "\n",
      "GCF_900002335.2_PCH 100%[===================>]   2.02M  1.24MB/s    in 1.6s    \n",
      "\n",
      "2022-06-21 10:23:18 (1.24 MB/s) - ‘GCF_900002335.2_PCHAS01_protein.faa.gz’ saved [2117346]\n",
      "\n"
     ]
    }
   ],
   "source": [
    "!wget ftp://ftp.ncbi.nlm.nih.gov/genomes/all/GCF/900/002/335/GCF_900002335.2_PCHAS01/GCF_900002335.2_PCHAS01_protein.faa.gz"
   ]
  },
  {
   "cell_type": "code",
   "execution_count": 33,
   "id": "71ce7af4",
   "metadata": {},
   "outputs": [
    {
     "name": "stdout",
     "output_type": "stream",
     "text": [
      "--2022-06-21 10:37:49--  ftp://ftp.ncbi.nlm.nih.gov/genomes/all/GCF/000/002/765/GCF_000002765.5_GCA_000002765/GCF_000002765.5_GCA_000002765_protein.faa.gz\n",
      "           => ‘GCF_000002765.5_GCA_000002765_protein.faa.gz’\n",
      "Resolving ftp.ncbi.nlm.nih.gov (ftp.ncbi.nlm.nih.gov)... 130.14.250.12, 130.14.250.13, 2607:f220:41f:250::229, ...\n",
      "Connecting to ftp.ncbi.nlm.nih.gov (ftp.ncbi.nlm.nih.gov)|130.14.250.12|:21... connected.\n",
      "Logging in as anonymous ... Logged in!\n",
      "==> SYST ... done.    ==> PWD ... done.\n",
      "==> TYPE I ... done.  ==> CWD (1) /genomes/all/GCF/000/002/765/GCF_000002765.5_GCA_000002765 ... done.\n",
      "==> SIZE GCF_000002765.5_GCA_000002765_protein.faa.gz ... 2427728\n",
      "==> PASV ... done.    ==> RETR GCF_000002765.5_GCA_000002765_protein.faa.gz ... done.\n",
      "Length: 2427728 (2.3M) (unauthoritative)\n",
      "\n",
      "GCF_000002765.5_GCA 100%[===================>]   2.31M   966KB/s    in 2.5s    \n",
      "\n",
      "2022-06-21 10:37:55 (966 KB/s) - ‘GCF_000002765.5_GCA_000002765_protein.faa.gz’ saved [2427728]\n",
      "\n"
     ]
    }
   ],
   "source": [
    "!wget ftp://ftp.ncbi.nlm.nih.gov/genomes/all/GCF/000/002/765/GCF_000002765.5_GCA_000002765/GCF_000002765.5_GCA_000002765_protein.faa.gz"
   ]
  },
  {
   "cell_type": "code",
   "execution_count": 37,
   "id": "941953f0",
   "metadata": {},
   "outputs": [
    {
     "name": "stdout",
     "output_type": "stream",
     "text": [
      "--2022-06-21 10:40:35--  ftp://ftp.ncbi.nlm.nih.gov/genomes/all/GCF/001/602/025/GCF_001602025.1_ASM160202v1/GCF_001602025.1_ASM160202v1_protein.faa.gz\n",
      "           => ‘GCF_001602025.1_ASM160202v1_protein.faa.gz’\n",
      "Resolving ftp.ncbi.nlm.nih.gov (ftp.ncbi.nlm.nih.gov)... 130.14.250.10, 130.14.250.7, 2607:f220:41e:250::13, ...\n",
      "Connecting to ftp.ncbi.nlm.nih.gov (ftp.ncbi.nlm.nih.gov)|130.14.250.10|:21... connected.\n",
      "Logging in as anonymous ... Logged in!\n",
      "==> SYST ... done.    ==> PWD ... done.\n",
      "==> TYPE I ... done.  ==> CWD (1) /genomes/all/GCF/001/602/025/GCF_001602025.1_ASM160202v1 ... done.\n",
      "==> SIZE GCF_001602025.1_ASM160202v1_protein.faa.gz ... 2228896\n",
      "==> PASV ... done.    ==> RETR GCF_001602025.1_ASM160202v1_protein.faa.gz ... done.\n",
      "Length: 2228896 (2.1M) (unauthoritative)\n",
      "\n",
      "GCF_001602025.1_ASM 100%[===================>]   2.12M  1.06MB/s    in 2.0s    \n",
      "\n",
      "2022-06-21 10:40:40 (1.06 MB/s) - ‘GCF_001602025.1_ASM160202v1_protein.faa.gz’ saved [2228896]\n",
      "\n"
     ]
    }
   ],
   "source": [
    "!wget ftp://ftp.ncbi.nlm.nih.gov/genomes/all/GCF/001/602/025/GCF_001602025.1_ASM160202v1/GCF_001602025.1_ASM160202v1_protein.faa.gz"
   ]
  },
  {
   "cell_type": "code",
   "execution_count": 40,
   "id": "0cf9208b",
   "metadata": {},
   "outputs": [
    {
     "name": "stdout",
     "output_type": "stream",
     "text": [
      "--2022-06-21 10:42:21--  ftp://ftp.ncbi.nlm.nih.gov/genomes/all/GCF/900/005/855/GCF_900005855.1_PGAL8A/GCF_900005855.1_PGAL8A_protein.faa.gz\n",
      "           => ‘GCF_900005855.1_PGAL8A_protein.faa.gz’\n",
      "Resolving ftp.ncbi.nlm.nih.gov (ftp.ncbi.nlm.nih.gov)... 165.112.9.229, 130.14.250.13, 2607:f220:41e:250::13, ...\n",
      "Connecting to ftp.ncbi.nlm.nih.gov (ftp.ncbi.nlm.nih.gov)|165.112.9.229|:21... connected.\n",
      "Logging in as anonymous ... Logged in!\n",
      "==> SYST ... done.    ==> PWD ... done.\n",
      "==> TYPE I ... done.  ==> CWD (1) /genomes/all/GCF/900/005/855/GCF_900005855.1_PGAL8A ... done.\n",
      "==> SIZE GCF_900005855.1_PGAL8A_protein.faa.gz ... 2198175\n",
      "==> PASV ... done.    ==> RETR GCF_900005855.1_PGAL8A_protein.faa.gz ... done.\n",
      "Length: 2198175 (2.1M) (unauthoritative)\n",
      "\n",
      "GCF_900005855.1_PGA 100%[===================>]   2.10M  1.39MB/s    in 1.5s    \n",
      "\n",
      "2022-06-21 10:42:26 (1.39 MB/s) - ‘GCF_900005855.1_PGAL8A_protein.faa.gz’ saved [2198175]\n",
      "\n"
     ]
    }
   ],
   "source": [
    "!wget ftp://ftp.ncbi.nlm.nih.gov/genomes/all/GCF/900/005/855/GCF_900005855.1_PGAL8A/GCF_900005855.1_PGAL8A_protein.faa.gz"
   ]
  },
  {
   "cell_type": "code",
   "execution_count": 44,
   "id": "bd7ea832",
   "metadata": {},
   "outputs": [
    {
     "name": "stdout",
     "output_type": "stream",
     "text": [
      "--2022-06-21 10:45:58--  ftp://ftp.ncbi.nlm.nih.gov/genomes/all/GCF/000/006/355/GCF_000006355.2_GCA_000006355.2/GCF_000006355.2_GCA_000006355.2_protein.faa.gz\n",
      "           => ‘GCF_000006355.2_GCA_000006355.2_protein.faa.gz’\n",
      "Resolving ftp.ncbi.nlm.nih.gov (ftp.ncbi.nlm.nih.gov)... 130.14.250.12, 130.14.250.11, 2607:f220:41e:250::11, ...\n",
      "Connecting to ftp.ncbi.nlm.nih.gov (ftp.ncbi.nlm.nih.gov)|130.14.250.12|:21... connected.\n",
      "Logging in as anonymous ... Logged in!\n",
      "==> SYST ... done.    ==> PWD ... done.\n",
      "==> TYPE I ... done.  ==> CWD (1) /genomes/all/GCF/000/006/355/GCF_000006355.2_GCA_000006355.2 ... done.\n",
      "==> SIZE GCF_000006355.2_GCA_000006355.2_protein.faa.gz ... 2407451\n",
      "==> PASV ... done.    ==> RETR GCF_000006355.2_GCA_000006355.2_protein.faa.gz ... done.\n",
      "Length: 2407451 (2.3M) (unauthoritative)\n",
      "\n",
      "GCF_000006355.2_GCA 100%[===================>]   2.30M  1.06MB/s    in 2.2s    \n",
      "\n",
      "2022-06-21 10:46:04 (1.06 MB/s) - ‘GCF_000006355.2_GCA_000006355.2_protein.faa.gz’ saved [2407451]\n",
      "\n"
     ]
    }
   ],
   "source": [
    "!wget ftp://ftp.ncbi.nlm.nih.gov/genomes/all/GCF/000/006/355/GCF_000006355.2_GCA_000006355.2/GCF_000006355.2_GCA_000006355.2_protein.faa.gz"
   ]
  },
  {
   "cell_type": "code",
   "execution_count": 47,
   "id": "340798ab",
   "metadata": {},
   "outputs": [
    {
     "name": "stdout",
     "output_type": "stream",
     "text": [
      "--2022-06-21 10:47:43--  ftp://ftp.ncbi.nlm.nih.gov/genomes/all/GCF/900/090/045/GCF_900090045.1_PmUG01/GCF_900090045.1_PmUG01_protein.faa.gz\n",
      "           => ‘GCF_900090045.1_PmUG01_protein.faa.gz’\n",
      "Resolving ftp.ncbi.nlm.nih.gov (ftp.ncbi.nlm.nih.gov)... 130.14.250.11, 130.14.250.12, 2607:f220:41f:250::230, ...\n",
      "Connecting to ftp.ncbi.nlm.nih.gov (ftp.ncbi.nlm.nih.gov)|130.14.250.11|:21... connected.\n",
      "Logging in as anonymous ... Logged in!\n",
      "==> SYST ... done.    ==> PWD ... done.\n",
      "==> TYPE I ... done.  ==> CWD (1) /genomes/all/GCF/900/090/045/GCF_900090045.1_PmUG01 ... done.\n",
      "==> SIZE GCF_900090045.1_PmUG01_protein.faa.gz ... 2483991\n",
      "==> PASV ... done.    ==> RETR GCF_900090045.1_PmUG01_protein.faa.gz ... done.\n",
      "Length: 2483991 (2.4M) (unauthoritative)\n",
      "\n",
      "GCF_900090045.1_PmU 100%[===================>]   2.37M  1.12MB/s    in 2.1s    \n",
      "\n",
      "2022-06-21 10:47:49 (1.12 MB/s) - ‘GCF_900090045.1_PmUG01_protein.faa.gz’ saved [2483991]\n",
      "\n"
     ]
    }
   ],
   "source": [
    "!wget ftp://ftp.ncbi.nlm.nih.gov/genomes/all/GCF/900/090/045/GCF_900090045.1_PmUG01/GCF_900090045.1_PmUG01_protein.faa.gz"
   ]
  },
  {
   "cell_type": "code",
   "execution_count": 51,
   "id": "c8047798",
   "metadata": {},
   "outputs": [
    {
     "name": "stdout",
     "output_type": "stream",
     "text": [
      "--2022-06-21 11:07:25--  ftp://ftp.ncbi.nlm.nih.gov/genomes/all/GCF/001/601/855/GCF_001601855.1_ASM160185v1/GCF_001601855.1_ASM160185v1_protein.faa.gz\n",
      "           => ‘GCF_001601855.1_ASM160185v1_protein.faa.gz’\n",
      "Resolving ftp.ncbi.nlm.nih.gov (ftp.ncbi.nlm.nih.gov)... 130.14.250.11, 130.14.250.7, 2607:f220:41f:250::229, ...\n",
      "Connecting to ftp.ncbi.nlm.nih.gov (ftp.ncbi.nlm.nih.gov)|130.14.250.11|:21... connected.\n",
      "Logging in as anonymous ... Logged in!\n",
      "==> SYST ... done.    ==> PWD ... done.\n",
      "==> TYPE I ... done.  ==> CWD (1) /genomes/all/GCF/001/601/855/GCF_001601855.1_ASM160185v1 ... done.\n",
      "==> SIZE GCF_001601855.1_ASM160185v1_protein.faa.gz ... 2227309\n",
      "==> PASV ... done.    ==> RETR GCF_001601855.1_ASM160185v1_protein.faa.gz ... done.\n",
      "Length: 2227309 (2.1M) (unauthoritative)\n",
      "\n",
      "GCF_001601855.1_ASM 100%[===================>]   2.12M  1.02MB/s    in 2.1s    \n",
      "\n",
      "2022-06-21 11:07:30 (1.02 MB/s) - ‘GCF_001601855.1_ASM160185v1_protein.faa.gz’ saved [2227309]\n",
      "\n"
     ]
    }
   ],
   "source": [
    "!wget ftp://ftp.ncbi.nlm.nih.gov/genomes/all/GCF/001/601/855/GCF_001601855.1_ASM160185v1/GCF_001601855.1_ASM160185v1_protein.faa.gz"
   ]
  },
  {
   "cell_type": "code",
   "execution_count": 54,
   "id": "31da0f2d",
   "metadata": {},
   "outputs": [
    {
     "name": "stdout",
     "output_type": "stream",
     "text": [
      "--2022-06-21 11:09:20--  ftp://ftp.ncbi.nlm.nih.gov/genomes/all/GCF/900/005/765/GCF_900005765.1_PRELSG/GCF_900005765.1_PRELSG_protein.faa.gz\n",
      "           => ‘GCF_900005765.1_PRELSG_protein.faa.gz’\n",
      "Resolving ftp.ncbi.nlm.nih.gov (ftp.ncbi.nlm.nih.gov)... 130.14.250.13, 130.14.250.12, 2607:f220:41e:250::11, ...\n",
      "Connecting to ftp.ncbi.nlm.nih.gov (ftp.ncbi.nlm.nih.gov)|130.14.250.13|:21... connected.\n",
      "Logging in as anonymous ... Logged in!\n",
      "==> SYST ... done.    ==> PWD ... done.\n",
      "==> TYPE I ... done.  ==> CWD (1) /genomes/all/GCF/900/005/765/GCF_900005765.1_PRELSG ... done.\n",
      "==> SIZE GCF_900005765.1_PRELSG_protein.faa.gz ... 2160539\n",
      "==> PASV ... done.    ==> RETR GCF_900005765.1_PRELSG_protein.faa.gz ... done.\n",
      "Length: 2160539 (2.1M) (unauthoritative)\n",
      "\n",
      "GCF_900005765.1_PRE 100%[===================>]   2.06M  1019KB/s    in 2.1s    \n",
      "\n",
      "2022-06-21 11:09:26 (1019 KB/s) - ‘GCF_900005765.1_PRELSG_protein.faa.gz’ saved [2160539]\n",
      "\n"
     ]
    }
   ],
   "source": [
    "!wget ftp://ftp.ncbi.nlm.nih.gov/genomes/all/GCF/900/005/765/GCF_900005765.1_PRELSG/GCF_900005765.1_PRELSG_protein.faa.gz"
   ]
  },
  {
   "cell_type": "code",
   "execution_count": 57,
   "id": "814fb0f0",
   "metadata": {},
   "outputs": [
    {
     "name": "stdout",
     "output_type": "stream",
     "text": [
      "--2022-06-21 11:10:54--  ftp://ftp.ncbi.nlm.nih.gov/genomes/all/GCF/900/097/015/GCF_900097015.1_PADLG01/GCF_900097015.1_PADLG01_protein.faa.gz\n",
      "           => ‘GCF_900097015.1_PADLG01_protein.faa.gz’\n",
      "Resolving ftp.ncbi.nlm.nih.gov (ftp.ncbi.nlm.nih.gov)... 130.14.250.10, 130.14.250.7, 2607:f220:41f:250::228, ...\n",
      "Connecting to ftp.ncbi.nlm.nih.gov (ftp.ncbi.nlm.nih.gov)|130.14.250.10|:21... connected.\n",
      "Logging in as anonymous ... Logged in!\n",
      "==> SYST ... done.    ==> PWD ... done.\n",
      "==> TYPE I ... done.  ==> CWD (1) /genomes/all/GCF/900/097/015/GCF_900097015.1_PADLG01 ... done.\n",
      "==> SIZE GCF_900097015.1_PADLG01_protein.faa.gz ... 2404984\n",
      "==> PASV ... done.    ==> RETR GCF_900097015.1_PADLG01_protein.faa.gz ... done.\n",
      "Length: 2404984 (2.3M) (unauthoritative)\n",
      "\n",
      "GCF_900097015.1_PAD 100%[===================>]   2.29M   998KB/s    in 2.4s    \n",
      "\n",
      "2022-06-21 11:11:00 (998 KB/s) - ‘GCF_900097015.1_PADLG01_protein.faa.gz’ saved [2404984]\n",
      "\n"
     ]
    }
   ],
   "source": [
    "!wget ftp://ftp.ncbi.nlm.nih.gov/genomes/all/GCF/900/097/015/GCF_900097015.1_PADLG01/GCF_900097015.1_PADLG01_protein.faa.gz"
   ]
  },
  {
   "cell_type": "code",
   "execution_count": 60,
   "id": "89143417",
   "metadata": {},
   "outputs": [
    {
     "name": "stdout",
     "output_type": "stream",
     "text": [
      "--2022-06-21 11:12:17--  ftp://ftp.ncbi.nlm.nih.gov/genomes/all/GCF/900/681/995/GCF_900681995.1_PVVCY_v1/GCF_900681995.1_PVVCY_v1_protein.faa.gz\n",
      "           => ‘GCF_900681995.1_PVVCY_v1_protein.faa.gz’\n",
      "Resolving ftp.ncbi.nlm.nih.gov (ftp.ncbi.nlm.nih.gov)... 130.14.250.11, 130.14.250.12, 2607:f220:41f:250::228, ...\n",
      "Connecting to ftp.ncbi.nlm.nih.gov (ftp.ncbi.nlm.nih.gov)|130.14.250.11|:21... connected.\n",
      "Logging in as anonymous ... Logged in!\n",
      "==> SYST ... done.    ==> PWD ... done.\n",
      "==> TYPE I ... done.  ==> CWD (1) /genomes/all/GCF/900/681/995/GCF_900681995.1_PVVCY_v1 ... done.\n",
      "==> SIZE GCF_900681995.1_PVVCY_v1_protein.faa.gz ... 2072676\n",
      "==> PASV ... done.    ==> RETR GCF_900681995.1_PVVCY_v1_protein.faa.gz ... done.\n",
      "Length: 2072676 (2.0M) (unauthoritative)\n",
      "\n",
      "GCF_900681995.1_PVV 100%[===================>]   1.98M   969KB/s    in 2.1s    \n",
      "\n",
      "2022-06-21 11:12:23 (969 KB/s) - ‘GCF_900681995.1_PVVCY_v1_protein.faa.gz’ saved [2072676]\n",
      "\n"
     ]
    }
   ],
   "source": [
    "!wget ftp://ftp.ncbi.nlm.nih.gov/genomes/all/GCF/900/681/995/GCF_900681995.1_PVVCY_v1/GCF_900681995.1_PVVCY_v1_protein.faa.gz"
   ]
  },
  {
   "cell_type": "code",
   "execution_count": 64,
   "id": "2c12d1c1",
   "metadata": {},
   "outputs": [
    {
     "name": "stdout",
     "output_type": "stream",
     "text": [
      "--2022-06-21 11:14:21--  ftp://ftp.ncbi.nlm.nih.gov/genomes/all/GCF/900/002/385/GCF_900002385.2_GCA_900002385/GCF_900002385.2_GCA_900002385_protein.faa.gz\n",
      "           => ‘GCF_900002385.2_GCA_900002385_protein.faa.gz’\n",
      "Resolving ftp.ncbi.nlm.nih.gov (ftp.ncbi.nlm.nih.gov)... 130.14.250.10, 130.14.250.11, 2607:f220:41e:250::11, ...\n",
      "Connecting to ftp.ncbi.nlm.nih.gov (ftp.ncbi.nlm.nih.gov)|130.14.250.10|:21... connected.\n",
      "Logging in as anonymous ... Logged in!\n",
      "==> SYST ... done.    ==> PWD ... done.\n",
      "==> TYPE I ... done.  ==> CWD (1) /genomes/all/GCF/900/002/385/GCF_900002385.2_GCA_900002385 ... done.\n",
      "==> SIZE GCF_900002385.2_GCA_900002385_protein.faa.gz ... 2245574\n",
      "==> PASV ... done.    ==> RETR GCF_900002385.2_GCA_900002385_protein.faa.gz ... done.\n",
      "Length: 2245574 (2.1M) (unauthoritative)\n",
      "\n",
      "GCF_900002385.2_GCA 100%[===================>]   2.14M   919KB/s    in 2.4s    \n",
      "\n",
      "2022-06-21 11:14:27 (919 KB/s) - ‘GCF_900002385.2_GCA_900002385_protein.faa.gz’ saved [2245574]\n",
      "\n"
     ]
    }
   ],
   "source": [
    "!wget ftp://ftp.ncbi.nlm.nih.gov/genomes/all/GCF/900/002/385/GCF_900002385.2_GCA_900002385/GCF_900002385.2_GCA_900002385_protein.faa.gz"
   ]
  },
  {
   "cell_type": "code",
   "execution_count": 65,
   "id": "622cd9f2",
   "metadata": {},
   "outputs": [
    {
     "name": "stdout",
     "output_type": "stream",
     "text": [
      "gzip: GCF_000002415.2_ASM241v2_feature_table.txt: unknown suffix -- ignored\r\n",
      "gzip: GCF_000002415.2_ASM241v2_genomic.fna: unknown suffix -- ignored\r\n",
      "gzip: GCF_000002415.2_ASM241v2_genomic.gbff: unknown suffix -- ignored\r\n",
      "gzip: GCF_000002415.2_ASM241v2_genomic.gtf: unknown suffix -- ignored\r\n",
      "gzip: GCF_000002415.2_ASM241v2_protein.faa: unknown suffix -- ignored\r\n",
      "gzip: GCF_000002415.2_ASM241v2_protein.faa.diamond.dmnd: unknown suffix -- ignored\r\n",
      "gzip: GCF_000321355.1_PcynB_1.0_feature_table.txt: unknown suffix -- ignored\r\n",
      "gzip: GCF_000321355.1_PcynB_1.0_genomic.fna: unknown suffix -- ignored\r\n",
      "gzip: GCF_000321355.1_PcynB_1.0_genomic.gbff: unknown suffix -- ignored\r\n",
      "gzip: GCF_000321355.1_PcynB_1.0_genomic.gtf: unknown suffix -- ignored\r\n",
      "gzip: GCF_000321355.1_PcynB_1.0_protein.faa: unknown suffix -- ignored\r\n",
      "gzip: GCF_000321355.1_PcynB_1.0_protein.faa.diamond.dmnd: unknown suffix -- ignored\r\n",
      "gzip: GCF_000524495.1_Plas_inui_San_Antonio_1_V1_feature_table.txt: unknown suffix -- ignored\r\n",
      "gzip: GCF_000524495.1_Plas_inui_San_Antonio_1_V1_genomic.fna: unknown suffix -- ignored\r\n",
      "gzip: GCF_000524495.1_Plas_inui_San_Antonio_1_V1_genomic.gbff: unknown suffix -- ignored\r\n",
      "gzip: GCF_000524495.1_Plas_inui_San_Antonio_1_V1_genomic.gtf: unknown suffix -- ignored\r\n",
      "gzip: GCF_000524495.1_Plas_inui_San_Antonio_1_V1_protein.faa: unknown suffix -- ignored\r\n",
      "gzip: GCF_000524495.1_Plas_inui_San_Antonio_1_V1_protein.faa.diamond.dmnd: unknown suffix -- ignored\r\n",
      "gzip: GCF_000956335.1_Plas_frag_nilgiri_V1_feature_table.txt: unknown suffix -- ignored\r\n",
      "gzip: GCF_000956335.1_Plas_frag_nilgiri_V1_genomic.fna: unknown suffix -- ignored\r\n",
      "gzip: GCF_000956335.1_Plas_frag_nilgiri_V1_genomic.gbff: unknown suffix -- ignored\r\n",
      "gzip: GCF_000956335.1_Plas_frag_nilgiri_V1_genomic.gtf: unknown suffix -- ignored\r\n",
      "gzip: GCF_000956335.1_Plas_frag_nilgiri_V1_protein.faa: unknown suffix -- ignored\r\n",
      "gzip: GCF_000956335.1_Plas_frag_nilgiri_V1_protein.faa.diamond.dmnd: unknown suffix -- ignored\r\n",
      "gzip: GCF_001680005.1_ASM168000v1_feature_table.txt: unknown suffix -- ignored\r\n",
      "gzip: GCF_001680005.1_ASM168000v1_genomic.fna: unknown suffix -- ignored\r\n",
      "gzip: GCF_001680005.1_ASM168000v1_genomic.gbff: unknown suffix -- ignored\r\n",
      "gzip: GCF_001680005.1_ASM168000v1_genomic.gtf: unknown suffix -- ignored\r\n",
      "gzip: GCF_001680005.1_ASM168000v1_protein.faa: unknown suffix -- ignored\r\n",
      "gzip: GCF_001680005.1_ASM168000v1_protein.faa.diamond.dmnd: unknown suffix -- ignored\r\n"
     ]
    }
   ],
   "source": [
    "!gzip -d GCF*"
   ]
  },
  {
   "cell_type": "markdown",
   "id": "bf131120",
   "metadata": {},
   "source": [
    "# Alignment 2"
   ]
  },
  {
   "cell_type": "code",
   "execution_count": 99,
   "id": "2a3d6ef7",
   "metadata": {},
   "outputs": [],
   "source": [
    "for i in range(2):\n",
    "    with open(f'cluster_{i}.fasta', 'w') as f:\n",
    "        for j, name in enumerate(df.columns):\n",
    "            gene = df.iloc[i, j]\n",
    "            name_fna = '_'.join(name.split('_')[:-1])+'_genomic.fna'\n",
    "            name_ft = '_'.join(name.split('_')[:-1])+'_feature_table.txt'\n",
    "            sequence = []\n",
    "            tmp = list(SeqIO.parse('./group/fna/'+name_fna, format='fasta'))\n",
    "            for s in tmp:\n",
    "                sequence.append(str(s.seq).upper())\n",
    "            sequence = ''.join(sequence)\n",
    "            sequence = ''.join(sequence.split('\\n'))\n",
    "            with open('./group/ft/'+name_ft) as r:\n",
    "                for line in r:\n",
    "                    elems = line.split('\\t')\n",
    "                    if elems[0] == 'CDS' and elems[10] == gene and gene != '*':\n",
    "                        f.write('>'+gene+'\\n')\n",
    "                        start, end = int(elems[7]), int(elems[8])\n",
    "                        break\n",
    "            f.write(sequence[start:end+1]+'\\n')"
   ]
  },
  {
   "cell_type": "code",
   "execution_count": 100,
   "id": "9606ff6b",
   "metadata": {},
   "outputs": [
    {
     "name": "stdout",
     "output_type": "stream",
     "text": [
      "\n",
      "muscle 5.1.linux64 [12f0e2]  8.1Gb RAM, 8 cores\n",
      "Built Jan 13 2022 23:17:13\n",
      "(C) Copyright 2004-2021 Robert C. Edgar.\n",
      "https://drive5.com\n",
      "\n",
      "Input: 40 seqs, avg length 886, max 5016\n",
      "\n",
      "00:00 4.1Mb  CPU has 8 cores, running 8 threads\n",
      "00:18 579Mb   100.0% Calc posteriors\n",
      "00:35 579Mb   100.0% Consistency (1/2)\n",
      "00:52 579Mb   100.0% Consistency (2/2)\n",
      "00:52 579Mb   100.0% UPGMA5           \n",
      "00:58 588Mb   100.0% Refining\n"
     ]
    }
   ],
   "source": [
    "!./muscle5.1.linux_intel64 -align cluster_0.fasta -output cluster_0_aligned.fasta"
   ]
  },
  {
   "cell_type": "code",
   "execution_count": 96,
   "id": "405f39fd",
   "metadata": {},
   "outputs": [
    {
     "name": "stdout",
     "output_type": "stream",
     "text": [
      "\n",
      "muscle 5.1.linux64 [12f0e2]  8.1Gb RAM, 8 cores\n",
      "Built Jan 13 2022 23:17:13\n",
      "(C) Copyright 2004-2021 Robert C. Edgar.\n",
      "https://drive5.com\n",
      "\n",
      "Input: 40 seqs, avg length 1810, max 5694\n",
      "\n",
      "00:00 4.1Mb  CPU has 8 cores, running 8 threads\n",
      "01:43 691Mb   100.0% Calc posteriors\n",
      "02:37 691Mb   100.0% Consistency (1/2)\n",
      "03:34 691Mb   100.0% Consistency (2/2)\n",
      "03:34 691Mb   100.0% UPGMA5           \n",
      "04:03 691Mb   100.0% Refining\n"
     ]
    }
   ],
   "source": [
    "!./muscle5.1.linux_intel64 -align cluster_1.fasta -output cluster_1_aligned.fasta"
   ]
  },
  {
   "cell_type": "markdown",
   "id": "57215dc6",
   "metadata": {},
   "source": [
    "# Find appropriate clusters for drawing"
   ]
  },
  {
   "cell_type": "markdown",
   "id": "ea7a8ef5",
   "metadata": {},
   "source": [
    "## Cluster 7"
   ]
  },
  {
   "cell_type": "code",
   "execution_count": 102,
   "id": "28227a48",
   "metadata": {},
   "outputs": [
    {
     "data": {
      "text/html": [
       "<div>\n",
       "<style scoped>\n",
       "    .dataframe tbody tr th:only-of-type {\n",
       "        vertical-align: middle;\n",
       "    }\n",
       "\n",
       "    .dataframe tbody tr th {\n",
       "        vertical-align: top;\n",
       "    }\n",
       "\n",
       "    .dataframe thead th {\n",
       "        text-align: right;\n",
       "    }\n",
       "</style>\n",
       "<table border=\"1\" class=\"dataframe\">\n",
       "  <thead>\n",
       "    <tr style=\"text-align: right;\">\n",
       "      <th></th>\n",
       "      <th># Species</th>\n",
       "      <th>Genes</th>\n",
       "      <th>Alg.-Conn.</th>\n",
       "      <th>babesia_bigemina_protein.faa</th>\n",
       "      <th>babesia_bovis_T2Bo_protein.faa</th>\n",
       "      <th>babesia_microti_strain_RI_protein.faa</th>\n",
       "      <th>babesia_ovata_protein.faa</th>\n",
       "      <th>babesia_sp._Xinjiang_protein.faa</th>\n",
       "      <th>besnoitia_besnoiti_protein.faa</th>\n",
       "      <th>cryptosporidium_felis_protein.faa</th>\n",
       "      <th>...</th>\n",
       "      <th>porospora_cf._gigantea_B</th>\n",
       "      <th>theileria_annulata</th>\n",
       "      <th>theileria_equi_strain_WA</th>\n",
       "      <th>theileria_orientalis_strain_Shintoku</th>\n",
       "      <th>theileria_parva_strain_Muguga</th>\n",
       "      <th>toxoplasma_gondii_ME49</th>\n",
       "      <th>z_sum</th>\n",
       "      <th>z_num</th>\n",
       "      <th>z_mean</th>\n",
       "      <th>z_max</th>\n",
       "    </tr>\n",
       "  </thead>\n",
       "  <tbody>\n",
       "    <tr>\n",
       "      <th>0</th>\n",
       "      <td>40</td>\n",
       "      <td>40</td>\n",
       "      <td>0.43100</td>\n",
       "      <td>CDR97401.1</td>\n",
       "      <td>EDO08491.1</td>\n",
       "      <td>CCF75508.1</td>\n",
       "      <td>GBE58587.1</td>\n",
       "      <td>ORM39934.1</td>\n",
       "      <td>PFH33007.1</td>\n",
       "      <td>KAF7458848.1</td>\n",
       "      <td>...</td>\n",
       "      <td>0.0</td>\n",
       "      <td>0.0</td>\n",
       "      <td>0.0</td>\n",
       "      <td>0.0</td>\n",
       "      <td>0.0</td>\n",
       "      <td>674.1187</td>\n",
       "      <td>1.113952e+06</td>\n",
       "      <td>40</td>\n",
       "      <td>27848.805790</td>\n",
       "      <td>941334.2000</td>\n",
       "    </tr>\n",
       "    <tr>\n",
       "      <th>1</th>\n",
       "      <td>41</td>\n",
       "      <td>42</td>\n",
       "      <td>0.15800</td>\n",
       "      <td>CDR97449.1</td>\n",
       "      <td>EDO08531.1</td>\n",
       "      <td>CTQ41552.1</td>\n",
       "      <td>GBE58534.1</td>\n",
       "      <td>*</td>\n",
       "      <td>PFH36348.1</td>\n",
       "      <td>KAF7459085.1</td>\n",
       "      <td>...</td>\n",
       "      <td>0.0</td>\n",
       "      <td>0.0</td>\n",
       "      <td>0.0</td>\n",
       "      <td>0.0</td>\n",
       "      <td>0.0</td>\n",
       "      <td>0.0</td>\n",
       "      <td>1.045155e+06</td>\n",
       "      <td>41</td>\n",
       "      <td>25491.583251</td>\n",
       "      <td>941334.2000</td>\n",
       "    </tr>\n",
       "    <tr>\n",
       "      <th>2</th>\n",
       "      <td>41</td>\n",
       "      <td>42</td>\n",
       "      <td>0.24400</td>\n",
       "      <td>CDR98116.1</td>\n",
       "      <td>EDO05551.1</td>\n",
       "      <td>CCF75356.1</td>\n",
       "      <td>GBE62413.1</td>\n",
       "      <td>ORM41226.1</td>\n",
       "      <td>PFH37542.1</td>\n",
       "      <td>KAF7458337.1</td>\n",
       "      <td>...</td>\n",
       "      <td>*</td>\n",
       "      <td>0.0</td>\n",
       "      <td>0.0</td>\n",
       "      <td>0.0</td>\n",
       "      <td>0.0</td>\n",
       "      <td>941334.2</td>\n",
       "      <td>9.618378e+05</td>\n",
       "      <td>41</td>\n",
       "      <td>23459.459224</td>\n",
       "      <td>941334.2000</td>\n",
       "    </tr>\n",
       "    <tr>\n",
       "      <th>3</th>\n",
       "      <td>42</td>\n",
       "      <td>42</td>\n",
       "      <td>0.35200</td>\n",
       "      <td>CDR97994.1</td>\n",
       "      <td>EDO05804.1</td>\n",
       "      <td>CCF72813.1</td>\n",
       "      <td>GBE62516.1</td>\n",
       "      <td>ORM41308.1</td>\n",
       "      <td>PFH38232.1</td>\n",
       "      <td>KAF7456369.1</td>\n",
       "      <td>...</td>\n",
       "      <td>1244.881</td>\n",
       "      <td>0.0</td>\n",
       "      <td>883.5764</td>\n",
       "      <td>0.0</td>\n",
       "      <td>0.0</td>\n",
       "      <td>0.0</td>\n",
       "      <td>9.685356e+05</td>\n",
       "      <td>42</td>\n",
       "      <td>23060.370564</td>\n",
       "      <td>941334.2000</td>\n",
       "    </tr>\n",
       "    <tr>\n",
       "      <th>4</th>\n",
       "      <td>43</td>\n",
       "      <td>43</td>\n",
       "      <td>0.38300</td>\n",
       "      <td>CDR93831.1</td>\n",
       "      <td>EDO08613.1</td>\n",
       "      <td>SIO73357.1</td>\n",
       "      <td>*</td>\n",
       "      <td>ORM41791.1</td>\n",
       "      <td>PFH36191.1</td>\n",
       "      <td>KAF7456803.1</td>\n",
       "      <td>...</td>\n",
       "      <td>0.0</td>\n",
       "      <td>0.0</td>\n",
       "      <td>0.0</td>\n",
       "      <td>0.0</td>\n",
       "      <td>0.0</td>\n",
       "      <td>941334.2</td>\n",
       "      <td>9.641417e+05</td>\n",
       "      <td>43</td>\n",
       "      <td>22421.901109</td>\n",
       "      <td>941334.2000</td>\n",
       "    </tr>\n",
       "    <tr>\n",
       "      <th>...</th>\n",
       "      <td>...</td>\n",
       "      <td>...</td>\n",
       "      <td>...</td>\n",
       "      <td>...</td>\n",
       "      <td>...</td>\n",
       "      <td>...</td>\n",
       "      <td>...</td>\n",
       "      <td>...</td>\n",
       "      <td>...</td>\n",
       "      <td>...</td>\n",
       "      <td>...</td>\n",
       "      <td>...</td>\n",
       "      <td>...</td>\n",
       "      <td>...</td>\n",
       "      <td>...</td>\n",
       "      <td>...</td>\n",
       "      <td>...</td>\n",
       "      <td>...</td>\n",
       "      <td>...</td>\n",
       "      <td>...</td>\n",
       "      <td>...</td>\n",
       "    </tr>\n",
       "    <tr>\n",
       "      <th>481</th>\n",
       "      <td>40</td>\n",
       "      <td>41</td>\n",
       "      <td>0.25200</td>\n",
       "      <td>CDR96821.1</td>\n",
       "      <td>*</td>\n",
       "      <td>*</td>\n",
       "      <td>GBE58899.1</td>\n",
       "      <td>*</td>\n",
       "      <td>PFH37384.1</td>\n",
       "      <td>KAF7457791.1</td>\n",
       "      <td>...</td>\n",
       "      <td>0.0</td>\n",
       "      <td>0.0</td>\n",
       "      <td>0.0</td>\n",
       "      <td>0.0</td>\n",
       "      <td>0.0</td>\n",
       "      <td>883.5764</td>\n",
       "      <td>2.022569e+03</td>\n",
       "      <td>40</td>\n",
       "      <td>50.564235</td>\n",
       "      <td>1138.9930</td>\n",
       "    </tr>\n",
       "    <tr>\n",
       "      <th>482</th>\n",
       "      <td>41</td>\n",
       "      <td>41</td>\n",
       "      <td>0.00757</td>\n",
       "      <td>CDR94413.1</td>\n",
       "      <td>EDO07321.1</td>\n",
       "      <td>CTQ41369.1</td>\n",
       "      <td>GBE60421.1</td>\n",
       "      <td>ORM39532.1</td>\n",
       "      <td>PFH34396.1</td>\n",
       "      <td>KAF7456442.1</td>\n",
       "      <td>...</td>\n",
       "      <td>0.0</td>\n",
       "      <td>0.0</td>\n",
       "      <td>*</td>\n",
       "      <td>0.0</td>\n",
       "      <td>0.0</td>\n",
       "      <td>0.0</td>\n",
       "      <td>1.567646e+03</td>\n",
       "      <td>41</td>\n",
       "      <td>38.235268</td>\n",
       "      <td>783.8230</td>\n",
       "    </tr>\n",
       "    <tr>\n",
       "      <th>483</th>\n",
       "      <td>41</td>\n",
       "      <td>41</td>\n",
       "      <td>0.01040</td>\n",
       "      <td>CDR94103.1</td>\n",
       "      <td>EDO06554.1</td>\n",
       "      <td>CCF73699.1</td>\n",
       "      <td>GBE60710.1</td>\n",
       "      <td>ORM41728.1</td>\n",
       "      <td>PFH35956.1</td>\n",
       "      <td>KAF7455810.1</td>\n",
       "      <td>...</td>\n",
       "      <td>0.0</td>\n",
       "      <td>0.0</td>\n",
       "      <td>0.0</td>\n",
       "      <td>0.0</td>\n",
       "      <td>0.0</td>\n",
       "      <td>0.0</td>\n",
       "      <td>1.555714e+03</td>\n",
       "      <td>41</td>\n",
       "      <td>37.944246</td>\n",
       "      <td>904.3200</td>\n",
       "    </tr>\n",
       "    <tr>\n",
       "      <th>484</th>\n",
       "      <td>41</td>\n",
       "      <td>41</td>\n",
       "      <td>0.04550</td>\n",
       "      <td>CDR94707.1</td>\n",
       "      <td>EDO07529.1</td>\n",
       "      <td>SJK86366.1</td>\n",
       "      <td>GBE60141.1</td>\n",
       "      <td>ORM39343.1</td>\n",
       "      <td>PFH36117.1</td>\n",
       "      <td>KAF7456495.1</td>\n",
       "      <td>...</td>\n",
       "      <td>0.0</td>\n",
       "      <td>0.0</td>\n",
       "      <td>0.0</td>\n",
       "      <td>0.0</td>\n",
       "      <td>0.0</td>\n",
       "      <td>0.0</td>\n",
       "      <td>8.835764e+02</td>\n",
       "      <td>41</td>\n",
       "      <td>21.550644</td>\n",
       "      <td>883.5764</td>\n",
       "    </tr>\n",
       "    <tr>\n",
       "      <th>485</th>\n",
       "      <td>40</td>\n",
       "      <td>41</td>\n",
       "      <td>0.62900</td>\n",
       "      <td>CDR95965.1</td>\n",
       "      <td>EDO06766.1</td>\n",
       "      <td>SJK85802.1</td>\n",
       "      <td>GBE59829.1</td>\n",
       "      <td>ORM39853.1</td>\n",
       "      <td>PFH37137.1</td>\n",
       "      <td>KAF7458542.1</td>\n",
       "      <td>...</td>\n",
       "      <td>0.0</td>\n",
       "      <td>*</td>\n",
       "      <td>0.0</td>\n",
       "      <td>*</td>\n",
       "      <td>*</td>\n",
       "      <td>0.0</td>\n",
       "      <td>6.123848e+02</td>\n",
       "      <td>40</td>\n",
       "      <td>15.309620</td>\n",
       "      <td>612.3848</td>\n",
       "    </tr>\n",
       "  </tbody>\n",
       "</table>\n",
       "<p>486 rows × 100 columns</p>\n",
       "</div>"
      ],
      "text/plain": [
       "     # Species  Genes  Alg.-Conn. babesia_bigemina_protein.faa  \\\n",
       "0           40     40     0.43100                   CDR97401.1   \n",
       "1           41     42     0.15800                   CDR97449.1   \n",
       "2           41     42     0.24400                   CDR98116.1   \n",
       "3           42     42     0.35200                   CDR97994.1   \n",
       "4           43     43     0.38300                   CDR93831.1   \n",
       "..         ...    ...         ...                          ...   \n",
       "481         40     41     0.25200                   CDR96821.1   \n",
       "482         41     41     0.00757                   CDR94413.1   \n",
       "483         41     41     0.01040                   CDR94103.1   \n",
       "484         41     41     0.04550                   CDR94707.1   \n",
       "485         40     41     0.62900                   CDR95965.1   \n",
       "\n",
       "    babesia_bovis_T2Bo_protein.faa babesia_microti_strain_RI_protein.faa  \\\n",
       "0                       EDO08491.1                            CCF75508.1   \n",
       "1                       EDO08531.1                            CTQ41552.1   \n",
       "2                       EDO05551.1                            CCF75356.1   \n",
       "3                       EDO05804.1                            CCF72813.1   \n",
       "4                       EDO08613.1                            SIO73357.1   \n",
       "..                             ...                                   ...   \n",
       "481                              *                                     *   \n",
       "482                     EDO07321.1                            CTQ41369.1   \n",
       "483                     EDO06554.1                            CCF73699.1   \n",
       "484                     EDO07529.1                            SJK86366.1   \n",
       "485                     EDO06766.1                            SJK85802.1   \n",
       "\n",
       "    babesia_ovata_protein.faa babesia_sp._Xinjiang_protein.faa  \\\n",
       "0                  GBE58587.1                       ORM39934.1   \n",
       "1                  GBE58534.1                                *   \n",
       "2                  GBE62413.1                       ORM41226.1   \n",
       "3                  GBE62516.1                       ORM41308.1   \n",
       "4                           *                       ORM41791.1   \n",
       "..                        ...                              ...   \n",
       "481                GBE58899.1                                *   \n",
       "482                GBE60421.1                       ORM39532.1   \n",
       "483                GBE60710.1                       ORM41728.1   \n",
       "484                GBE60141.1                       ORM39343.1   \n",
       "485                GBE59829.1                       ORM39853.1   \n",
       "\n",
       "    besnoitia_besnoiti_protein.faa cryptosporidium_felis_protein.faa  ...  \\\n",
       "0                       PFH33007.1                      KAF7458848.1  ...   \n",
       "1                       PFH36348.1                      KAF7459085.1  ...   \n",
       "2                       PFH37542.1                      KAF7458337.1  ...   \n",
       "3                       PFH38232.1                      KAF7456369.1  ...   \n",
       "4                       PFH36191.1                      KAF7456803.1  ...   \n",
       "..                             ...                               ...  ...   \n",
       "481                     PFH37384.1                      KAF7457791.1  ...   \n",
       "482                     PFH34396.1                      KAF7456442.1  ...   \n",
       "483                     PFH35956.1                      KAF7455810.1  ...   \n",
       "484                     PFH36117.1                      KAF7456495.1  ...   \n",
       "485                     PFH37137.1                      KAF7458542.1  ...   \n",
       "\n",
       "    porospora_cf._gigantea_B theileria_annulata theileria_equi_strain_WA  \\\n",
       "0                        0.0                0.0                      0.0   \n",
       "1                        0.0                0.0                      0.0   \n",
       "2                          *                0.0                      0.0   \n",
       "3                   1244.881                0.0                 883.5764   \n",
       "4                        0.0                0.0                      0.0   \n",
       "..                       ...                ...                      ...   \n",
       "481                      0.0                0.0                      0.0   \n",
       "482                      0.0                0.0                        *   \n",
       "483                      0.0                0.0                      0.0   \n",
       "484                      0.0                0.0                      0.0   \n",
       "485                      0.0                  *                      0.0   \n",
       "\n",
       "    theileria_orientalis_strain_Shintoku theileria_parva_strain_Muguga  \\\n",
       "0                                    0.0                           0.0   \n",
       "1                                    0.0                           0.0   \n",
       "2                                    0.0                           0.0   \n",
       "3                                    0.0                           0.0   \n",
       "4                                    0.0                           0.0   \n",
       "..                                   ...                           ...   \n",
       "481                                  0.0                           0.0   \n",
       "482                                  0.0                           0.0   \n",
       "483                                  0.0                           0.0   \n",
       "484                                  0.0                           0.0   \n",
       "485                                    *                             *   \n",
       "\n",
       "    toxoplasma_gondii_ME49         z_sum z_num        z_mean        z_max  \n",
       "0                 674.1187  1.113952e+06    40  27848.805790  941334.2000  \n",
       "1                      0.0  1.045155e+06    41  25491.583251  941334.2000  \n",
       "2                 941334.2  9.618378e+05    41  23459.459224  941334.2000  \n",
       "3                      0.0  9.685356e+05    42  23060.370564  941334.2000  \n",
       "4                 941334.2  9.641417e+05    43  22421.901109  941334.2000  \n",
       "..                     ...           ...   ...           ...          ...  \n",
       "481               883.5764  2.022569e+03    40     50.564235    1138.9930  \n",
       "482                    0.0  1.567646e+03    41     38.235268     783.8230  \n",
       "483                    0.0  1.555714e+03    41     37.944246     904.3200  \n",
       "484                    0.0  8.835764e+02    41     21.550644     883.5764  \n",
       "485                    0.0  6.123848e+02    40     15.309620     612.3848  \n",
       "\n",
       "[486 rows x 100 columns]"
      ]
     },
     "execution_count": 102,
     "metadata": {},
     "output_type": "execute_result"
    }
   ],
   "source": [
    "df = pd.read_csv(\"./group/clusters_for_heatmap.tsv\", delimiter=\"\\t\")\n",
    "df"
   ]
  },
  {
   "cell_type": "code",
   "execution_count": 127,
   "id": "be4939b7",
   "metadata": {},
   "outputs": [],
   "source": [
    "selected_orgs = ['toxoplasma_gondii_ME49', 'plasmodium_vivax', 'plasmodium_coatneyi', 'neospora_caninum_Liverpool', 'besnoitia_besnoiti']\n",
    "selected_files = ['toxoplasma_gondii_ME49_protein.faa', 'plasmodium_vivax_protein.faa', 'plasmodium_coatneyi_protein.faa', 'neospora_caninum_Liverpool_protein.faa', 'besnoitia_besnoiti_protein.faa']"
   ]
  },
  {
   "cell_type": "code",
   "execution_count": 126,
   "id": "54f89f1d",
   "metadata": {},
   "outputs": [
    {
     "data": {
      "text/html": [
       "<div>\n",
       "<style scoped>\n",
       "    .dataframe tbody tr th:only-of-type {\n",
       "        vertical-align: middle;\n",
       "    }\n",
       "\n",
       "    .dataframe tbody tr th {\n",
       "        vertical-align: top;\n",
       "    }\n",
       "\n",
       "    .dataframe thead th {\n",
       "        text-align: right;\n",
       "    }\n",
       "</style>\n",
       "<table border=\"1\" class=\"dataframe\">\n",
       "  <thead>\n",
       "    <tr style=\"text-align: right;\">\n",
       "      <th></th>\n",
       "      <th>toxoplasma_gondii_ME49</th>\n",
       "      <th>plasmodium_vivax</th>\n",
       "      <th>plasmodium_coatneyi</th>\n",
       "      <th>neospora_caninum_Liverpool</th>\n",
       "      <th>besnoitia_besnoiti</th>\n",
       "    </tr>\n",
       "  </thead>\n",
       "  <tbody>\n",
       "    <tr>\n",
       "      <th>7</th>\n",
       "      <td>13713.99</td>\n",
       "      <td>4831.423</td>\n",
       "      <td>12723.6</td>\n",
       "      <td>302785.5</td>\n",
       "      <td>38833.58</td>\n",
       "    </tr>\n",
       "  </tbody>\n",
       "</table>\n",
       "</div>"
      ],
      "text/plain": [
       "  toxoplasma_gondii_ME49 plasmodium_vivax plasmodium_coatneyi  \\\n",
       "7               13713.99         4831.423             12723.6   \n",
       "\n",
       "  neospora_caninum_Liverpool besnoitia_besnoiti  \n",
       "7                   302785.5           38833.58  "
      ]
     },
     "execution_count": 126,
     "metadata": {},
     "output_type": "execute_result"
    }
   ],
   "source": [
    "df.loc[[7], selected_orgs]"
   ]
  },
  {
   "cell_type": "code",
   "execution_count": 134,
   "id": "e4edabaf",
   "metadata": {},
   "outputs": [
    {
     "data": {
      "text/html": [
       "<div>\n",
       "<style scoped>\n",
       "    .dataframe tbody tr th:only-of-type {\n",
       "        vertical-align: middle;\n",
       "    }\n",
       "\n",
       "    .dataframe tbody tr th {\n",
       "        vertical-align: top;\n",
       "    }\n",
       "\n",
       "    .dataframe thead th {\n",
       "        text-align: right;\n",
       "    }\n",
       "</style>\n",
       "<table border=\"1\" class=\"dataframe\">\n",
       "  <thead>\n",
       "    <tr style=\"text-align: right;\">\n",
       "      <th></th>\n",
       "      <th>toxoplasma_gondii_ME49_protein.faa</th>\n",
       "      <th>plasmodium_vivax_protein.faa</th>\n",
       "      <th>plasmodium_coatneyi_protein.faa</th>\n",
       "      <th>neospora_caninum_Liverpool_protein.faa</th>\n",
       "      <th>besnoitia_besnoiti_protein.faa</th>\n",
       "    </tr>\n",
       "  </thead>\n",
       "  <tbody>\n",
       "    <tr>\n",
       "      <th>7</th>\n",
       "      <td>EPT29702.1</td>\n",
       "      <td>EDL45263.1</td>\n",
       "      <td>ANQ06682.1</td>\n",
       "      <td>CBZ52694.1</td>\n",
       "      <td>PFH37774.1</td>\n",
       "    </tr>\n",
       "  </tbody>\n",
       "</table>\n",
       "</div>"
      ],
      "text/plain": [
       "  toxoplasma_gondii_ME49_protein.faa plasmodium_vivax_protein.faa  \\\n",
       "7                         EPT29702.1                   EDL45263.1   \n",
       "\n",
       "  plasmodium_coatneyi_protein.faa neospora_caninum_Liverpool_protein.faa  \\\n",
       "7                      ANQ06682.1                             CBZ52694.1   \n",
       "\n",
       "  besnoitia_besnoiti_protein.faa  \n",
       "7                     PFH37774.1  "
      ]
     },
     "execution_count": 134,
     "metadata": {},
     "output_type": "execute_result"
    }
   ],
   "source": [
    "df.loc[[7], selected_files]"
   ]
  },
  {
   "cell_type": "code",
   "execution_count": 129,
   "id": "73c616fe",
   "metadata": {},
   "outputs": [],
   "source": [
    "scores = df.loc[[7], selected_orgs].to_numpy().astype(float)[0]\n",
    "genes = df.loc[[7], selected_files].to_numpy()[0]"
   ]
  },
  {
   "cell_type": "code",
   "execution_count": 241,
   "id": "df5febc4",
   "metadata": {
    "scrolled": true
   },
   "outputs": [],
   "source": [
    "zdna_coords = []\n",
    "for i, name in enumerate(selected_orgs):\n",
    "    with open('./group/hse22_project_Apicomplexans-main/data/all_files/intersection/'+name+'_intersection.bed', 'r') as f:\n",
    "        for line in f:\n",
    "            elems = line.split('\\t')\n",
    "            if elems[3] == genes[i]:\n",
    "                zdna_coords.append([int(elems[1]), int(elems[2]), float(elems[8][:-2])])\n",
    "                break"
   ]
  },
  {
   "cell_type": "code",
   "execution_count": 242,
   "id": "e96ad403",
   "metadata": {},
   "outputs": [
    {
     "data": {
      "text/plain": [
       "[[813044, 813058, 13713.9],\n",
       " [617213, 617227, 4831.42],\n",
       " [671809, 671825, 12723.0],\n",
       " [758637, 758642, 302785.0],\n",
       " [755506, 755512, 38833.5]]"
      ]
     },
     "execution_count": 242,
     "metadata": {},
     "output_type": "execute_result"
    }
   ],
   "source": [
    "zdna_coords"
   ]
  },
  {
   "cell_type": "code",
   "execution_count": 243,
   "id": "6490c966",
   "metadata": {},
   "outputs": [],
   "source": [
    "gene_coords = []\n",
    "for i, name in enumerate(selected_orgs):\n",
    "    with open('./group/ft/'+name+'_feature_table.txt', 'r') as f:\n",
    "        for line in f:\n",
    "            elems = line.split('\\t')\n",
    "            if elems[0] == 'CDS' and elems[10] == genes[i]:\n",
    "                gene_coords.append([int(elems[7]), int(elems[8]), elems[9], genes[i]])"
   ]
  },
  {
   "cell_type": "code",
   "execution_count": 244,
   "id": "fed40361",
   "metadata": {},
   "outputs": [
    {
     "data": {
      "text/plain": [
       "[[813151, 815788, '+', 'EPT29702.1'],\n",
       " [615847, 617141, '-', 'EDL45263.1'],\n",
       " [670315, 671738, '-', 'ANQ06682.1'],\n",
       " [758937, 761451, '+', 'CBZ52694.1'],\n",
       " [755806, 757980, '+', 'PFH37774.1']]"
      ]
     },
     "execution_count": 244,
     "metadata": {},
     "output_type": "execute_result"
    }
   ],
   "source": [
    "gene_coords"
   ]
  },
  {
   "cell_type": "code",
   "execution_count": 245,
   "id": "c5ca8073",
   "metadata": {},
   "outputs": [],
   "source": [
    "for i in range(len(gene_coords)):\n",
    "    if gene_coords[i][2] == '+':\n",
    "        gene_coords[i][1] = zdna_coords[i][1] + 700\n",
    "    else:\n",
    "        gene_coords[i][0] = zdna_coords[i][0] - 400"
   ]
  },
  {
   "cell_type": "code",
   "execution_count": 246,
   "id": "e87061f6",
   "metadata": {},
   "outputs": [
    {
     "data": {
      "text/plain": [
       "[[813151, 813758, '+', 'EPT29702.1'],\n",
       " [616813, 617141, '-', 'EDL45263.1'],\n",
       " [671409, 671738, '-', 'ANQ06682.1'],\n",
       " [758937, 759342, '+', 'CBZ52694.1'],\n",
       " [755806, 756212, '+', 'PFH37774.1']]"
      ]
     },
     "execution_count": 246,
     "metadata": {},
     "output_type": "execute_result"
    }
   ],
   "source": [
    "gene_coords"
   ]
  },
  {
   "cell_type": "code",
   "execution_count": 247,
   "id": "1a1c9353",
   "metadata": {},
   "outputs": [],
   "source": [
    "for i, _ in enumerate(zdna_coords):\n",
    "    if gene_coords[i][2] == '-':\n",
    "        gene_coords[i][2] = '+'\n",
    "        zdna_coords[i][0] = gene_coords[i][0] - (zdna_coords[i][0] - gene_coords[i][1])\n",
    "        zdna_coords[i][1] = gene_coords[i][0] - (zdna_coords[i][1] - gene_coords[i][1])\n",
    "        zdna_coords[i][:2] = zdna_coords[i][-2:None:-1]"
   ]
  },
  {
   "cell_type": "code",
   "execution_count": 248,
   "id": "c869c3ca",
   "metadata": {},
   "outputs": [
    {
     "data": {
      "text/plain": [
       "[[813044, 813058, 13713.9],\n",
       " [616727, 616741, 4831.42],\n",
       " [671322, 671338, 12723.0],\n",
       " [758637, 758642, 302785.0],\n",
       " [755506, 755512, 38833.5]]"
      ]
     },
     "execution_count": 248,
     "metadata": {},
     "output_type": "execute_result"
    }
   ],
   "source": [
    "zdna_coords"
   ]
  },
  {
   "cell_type": "code",
   "execution_count": 249,
   "id": "93b5a785",
   "metadata": {
    "scrolled": false
   },
   "outputs": [
    {
     "data": {
      "image/png": "[encoded data removed]",
      "text/plain": [
       "<Figure size 864x504 with 5 Axes>"
      ]
     },
     "metadata": {},
     "output_type": "display_data"
    }
   ],
   "source": [
    "fig, ax = plt.subplots(nrows=5, ncols=1 ,figsize=(12, 7))\n",
    "\n",
    "for i in range(5):\n",
    "    record = GraphicRecord(sequence_length=1000000, features=[GraphicFeature(start=gene_coords[i][0], end=gene_coords[i][1], strand=-1 if gene_coords[i][2]=='-' else +1, color=\"#ffd700\", label=gene_coords[i][3].split(\"\\n\")[0]+\" \"+selected_orgs[i]),\n",
    "                                                             GraphicFeature(start=zdna_coords[i][0], end=zdna_coords[i][1], strand=-1 if gene_coords[i][2]=='-' else +1, color=\"#ffd700\", label=f\"z-dna score: {zdna_coords[i][2]}\")])\n",
    "    cropped_record = record.crop((gene_coords[i][0]-300, gene_coords[i][1]+300))\n",
    "    cropped_record.plot(ax=ax[i])\n",
    "plt.savefig(\"clusters.jpg\")"
   ]
  },
  {
   "cell_type": "markdown",
   "id": "6948d678",
   "metadata": {},
   "source": [
    "## Cluster 10"
   ]
  },
  {
   "cell_type": "code",
   "execution_count": 251,
   "id": "387ff9c5",
   "metadata": {},
   "outputs": [
    {
     "data": {
      "text/plain": [
       "Index(['# Species', 'Genes', 'Alg.-Conn.', 'babesia_bigemina_protein.faa',\n",
       "       'babesia_bovis_T2Bo_protein.faa',\n",
       "       'babesia_microti_strain_RI_protein.faa', 'babesia_ovata_protein.faa',\n",
       "       'babesia_sp._Xinjiang_protein.faa', 'besnoitia_besnoiti_protein.faa',\n",
       "       'cryptosporidium_felis_protein.faa',\n",
       "       'cryptosporidium_hominis_TU502_protein.faa',\n",
       "       'cryptosporidium_muris_RN66_protein.faa',\n",
       "       'cryptosporidium_parvum_Iowa_II_protein.faa',\n",
       "       'cryptosporidium_ubiquitum_protein.faa',\n",
       "       'eimeria_acervulina_protein.faa', 'eimeria_brunetti_protein.faa',\n",
       "       'eimeria_maxima_protein.faa', 'eimeria_mitis_protein.faa',\n",
       "       'eimeria_necatrix_protein.faa', 'eimeria_praecox_protein.faa',\n",
       "       'eimeria_tenella_protein.faa', 'gregarina_niphandrodes_protein.faa',\n",
       "       'neospora_caninum_Liverpool_protein.faa',\n",
       "       'plasmodium_berghei_ANKA_protein.faa',\n",
       "       'plasmodium_chabaudi_protein.faa', 'plasmodium_coatneyi_protein.faa',\n",
       "       'plasmodium_cynomolgi_protein.faa', 'plasmodium_falciparum_protein.faa',\n",
       "       'plasmodium_fragile_protein.faa', 'plasmodium_gaboni_protein.faa',\n",
       "       'plasmodium_gallinaceum_protein.faa',\n",
       "       'plasmodium_inui_San_Antonio_1_protein.faa',\n",
       "       'plasmodium_knowlesi_protein.faa', 'plasmodium_malariae_protein.faa',\n",
       "       'plasmodium_reichenowi_protein.faa', 'plasmodium_relictum_protein.faa',\n",
       "       'plasmodium_sp._gorilla_clade_G2_protein.faa',\n",
       "       'plasmodium_vinckei_protein.faa', 'plasmodium_vivax_protein.faa',\n",
       "       'plasmodium_yoelii_protein.faa', 'porospora_cf._gigantea_A_protein.faa',\n",
       "       'porospora_cf._gigantea_B_protein.faa',\n",
       "       'theileria_annulata_protein.faa',\n",
       "       'theileria_equi_strain_WA_protein.faa',\n",
       "       'theileria_orientalis_strain_Shintoku_protein.faa',\n",
       "       'theileria_parva_strain_Muguga_protein.faa',\n",
       "       'toxoplasma_gondii_ME49_protein.faa', 'type', 'number_of_genoms',\n",
       "       'number_of_proteins', 'number_of_genus', 'function', 'babesia_bigemina',\n",
       "       'babesia_bovis_T2Bo', 'babesia_microti_strain_RI', 'babesia_ovata',\n",
       "       'babesia_sp._Xinjiang', 'besnoitia_besnoiti', 'cryptosporidium_felis',\n",
       "       'cryptosporidium_hominis_TU502', 'cryptosporidium_muris_RN66',\n",
       "       'cryptosporidium_parvum_Iowa_II', 'cryptosporidium_ubiquitum',\n",
       "       'eimeria_acervulina', 'eimeria_brunetti', 'eimeria_maxima',\n",
       "       'eimeria_mitis', 'eimeria_necatrix', 'eimeria_praecox',\n",
       "       'eimeria_tenella', 'gregarina_niphandrodes',\n",
       "       'neospora_caninum_Liverpool', 'plasmodium_berghei_ANKA',\n",
       "       'plasmodium_chabaudi', 'plasmodium_coatneyi', 'plasmodium_cynomolgi',\n",
       "       'plasmodium_falciparum', 'plasmodium_fragile', 'plasmodium_gaboni',\n",
       "       'plasmodium_gallinaceum', 'plasmodium_inui_San_Antonio_1',\n",
       "       'plasmodium_knowlesi', 'plasmodium_malariae', 'plasmodium_reichenowi',\n",
       "       'plasmodium_relictum', 'plasmodium_sp._gorilla_clade_G2',\n",
       "       'plasmodium_vinckei', 'plasmodium_vivax', 'plasmodium_yoelii',\n",
       "       'porospora_cf._gigantea_A', 'porospora_cf._gigantea_B',\n",
       "       'theileria_annulata', 'theileria_equi_strain_WA',\n",
       "       'theileria_orientalis_strain_Shintoku', 'theileria_parva_strain_Muguga',\n",
       "       'toxoplasma_gondii_ME49', 'z_sum', 'z_num', 'z_mean', 'z_max'],\n",
       "      dtype='object')"
      ]
     },
     "execution_count": 251,
     "metadata": {},
     "output_type": "execute_result"
    }
   ],
   "source": [
    "df = pd.read_csv(\"./group/clusters_for_heatmap.tsv\", delimiter=\"\\t\")\n",
    "df.columns"
   ]
  },
  {
   "cell_type": "code",
   "execution_count": 252,
   "id": "a0b95a0a",
   "metadata": {},
   "outputs": [],
   "source": [
    "selected_orgs = ['plasmodium_vivax', 'plasmodium_knowlesi', 'plasmodium_fragile', 'plasmodium_cynomolgi', 'plasmodium_coatneyi']\n",
    "selected_files = ['plasmodium_vivax_protein.faa', 'plasmodium_knowlesi_protein.faa', 'plasmodium_fragile_protein.faa', 'plasmodium_cynomolgi_protein.faa','plasmodium_coatneyi_protein.faa']"
   ]
  },
  {
   "cell_type": "code",
   "execution_count": 253,
   "id": "80b56283",
   "metadata": {},
   "outputs": [
    {
     "data": {
      "text/html": [
       "<div>\n",
       "<style scoped>\n",
       "    .dataframe tbody tr th:only-of-type {\n",
       "        vertical-align: middle;\n",
       "    }\n",
       "\n",
       "    .dataframe tbody tr th {\n",
       "        vertical-align: top;\n",
       "    }\n",
       "\n",
       "    .dataframe thead th {\n",
       "        text-align: right;\n",
       "    }\n",
       "</style>\n",
       "<table border=\"1\" class=\"dataframe\">\n",
       "  <thead>\n",
       "    <tr style=\"text-align: right;\">\n",
       "      <th></th>\n",
       "      <th>plasmodium_vivax</th>\n",
       "      <th>plasmodium_knowlesi</th>\n",
       "      <th>plasmodium_fragile</th>\n",
       "      <th>plasmodium_cynomolgi</th>\n",
       "      <th>plasmodium_coatneyi</th>\n",
       "    </tr>\n",
       "  </thead>\n",
       "  <tbody>\n",
       "    <tr>\n",
       "      <th>10</th>\n",
       "      <td>94590.41</td>\n",
       "      <td>10894.72</td>\n",
       "      <td>94590.41</td>\n",
       "      <td>94590.41</td>\n",
       "      <td>3428.529</td>\n",
       "    </tr>\n",
       "  </tbody>\n",
       "</table>\n",
       "</div>"
      ],
      "text/plain": [
       "   plasmodium_vivax  plasmodium_knowlesi plasmodium_fragile  \\\n",
       "10         94590.41             10894.72           94590.41   \n",
       "\n",
       "   plasmodium_cynomolgi plasmodium_coatneyi  \n",
       "10             94590.41            3428.529  "
      ]
     },
     "execution_count": 253,
     "metadata": {},
     "output_type": "execute_result"
    }
   ],
   "source": [
    "df.loc[[10], selected_orgs]"
   ]
  },
  {
   "cell_type": "code",
   "execution_count": 254,
   "id": "5ddaa09d",
   "metadata": {},
   "outputs": [
    {
     "data": {
      "text/html": [
       "<div>\n",
       "<style scoped>\n",
       "    .dataframe tbody tr th:only-of-type {\n",
       "        vertical-align: middle;\n",
       "    }\n",
       "\n",
       "    .dataframe tbody tr th {\n",
       "        vertical-align: top;\n",
       "    }\n",
       "\n",
       "    .dataframe thead th {\n",
       "        text-align: right;\n",
       "    }\n",
       "</style>\n",
       "<table border=\"1\" class=\"dataframe\">\n",
       "  <thead>\n",
       "    <tr style=\"text-align: right;\">\n",
       "      <th></th>\n",
       "      <th>plasmodium_vivax_protein.faa</th>\n",
       "      <th>plasmodium_knowlesi_protein.faa</th>\n",
       "      <th>plasmodium_fragile_protein.faa</th>\n",
       "      <th>plasmodium_cynomolgi_protein.faa</th>\n",
       "      <th>plasmodium_coatneyi_protein.faa</th>\n",
       "    </tr>\n",
       "  </thead>\n",
       "  <tbody>\n",
       "    <tr>\n",
       "      <th>10</th>\n",
       "      <td>EDL47154.1</td>\n",
       "      <td>CAA9990538.1</td>\n",
       "      <td>KJP88517.1</td>\n",
       "      <td>GAB68622.1</td>\n",
       "      <td>ANQ10540.1</td>\n",
       "    </tr>\n",
       "  </tbody>\n",
       "</table>\n",
       "</div>"
      ],
      "text/plain": [
       "   plasmodium_vivax_protein.faa plasmodium_knowlesi_protein.faa  \\\n",
       "10                   EDL47154.1                    CAA9990538.1   \n",
       "\n",
       "   plasmodium_fragile_protein.faa plasmodium_cynomolgi_protein.faa  \\\n",
       "10                     KJP88517.1                       GAB68622.1   \n",
       "\n",
       "   plasmodium_coatneyi_protein.faa  \n",
       "10                      ANQ10540.1  "
      ]
     },
     "execution_count": 254,
     "metadata": {},
     "output_type": "execute_result"
    }
   ],
   "source": [
    "df.loc[[10], selected_files]"
   ]
  },
  {
   "cell_type": "code",
   "execution_count": 255,
   "id": "e28da2ee",
   "metadata": {},
   "outputs": [],
   "source": [
    "scores = df.loc[[10], selected_orgs].to_numpy().astype(float)[0]\n",
    "genes = df.loc[[10], selected_files].to_numpy()[0]"
   ]
  },
  {
   "cell_type": "code",
   "execution_count": 256,
   "id": "ca150933",
   "metadata": {
    "scrolled": true
   },
   "outputs": [],
   "source": [
    "zdna_coords = []\n",
    "for i, name in enumerate(selected_orgs):\n",
    "    with open('./group/hse22_project_Apicomplexans-main/data/all_files/intersection/'+name+'_intersection.bed', 'r') as f:\n",
    "        for line in f:\n",
    "            elems = line.split('\\t')\n",
    "            if elems[3] == genes[i]:\n",
    "                zdna_coords.append([int(elems[1]), int(elems[2]), float(elems[8][:-2])])\n",
    "                break"
   ]
  },
  {
   "cell_type": "code",
   "execution_count": 257,
   "id": "f3cafdb7",
   "metadata": {},
   "outputs": [
    {
     "data": {
      "text/plain": [
       "[[1821967, 1821986, 94590.4],\n",
       " [2321754, 2321770, 10894.7],\n",
       " [189693, 189712, 94590.4],\n",
       " [1880207, 1880226, 94590.4],\n",
       " [1594818, 1594831, 3428.52]]"
      ]
     },
     "execution_count": 257,
     "metadata": {},
     "output_type": "execute_result"
    }
   ],
   "source": [
    "zdna_coords"
   ]
  },
  {
   "cell_type": "code",
   "execution_count": 258,
   "id": "5d7e6d8d",
   "metadata": {},
   "outputs": [],
   "source": [
    "gene_coords = []\n",
    "for i, name in enumerate(selected_orgs):\n",
    "    with open('./group/ft/'+name+'_feature_table.txt', 'r') as f:\n",
    "        for line in f:\n",
    "            elems = line.split('\\t')\n",
    "            if elems[0] == 'CDS' and elems[10] == genes[i]:\n",
    "                gene_coords.append([int(elems[7]), int(elems[8]), elems[9], genes[i]])"
   ]
  },
  {
   "cell_type": "code",
   "execution_count": 259,
   "id": "5adc000f",
   "metadata": {},
   "outputs": [
    {
     "data": {
      "text/plain": [
       "[[1822147, 1823603, '+', 'EDL47154.1'],\n",
       " [2321899, 2323306, '+', 'CAA9990538.1'],\n",
       " [189830, 191245, '+', 'KJP88517.1'],\n",
       " [1880343, 1881927, '+', 'GAB68622.1'],\n",
       " [1594930, 1596313, '+', 'ANQ10540.1']]"
      ]
     },
     "execution_count": 259,
     "metadata": {},
     "output_type": "execute_result"
    }
   ],
   "source": [
    "gene_coords"
   ]
  },
  {
   "cell_type": "code",
   "execution_count": 260,
   "id": "6a614bde",
   "metadata": {},
   "outputs": [],
   "source": [
    "for i in range(len(gene_coords)):\n",
    "    if gene_coords[i][2] == '+':\n",
    "        gene_coords[i][1] = zdna_coords[i][1] + 700\n",
    "    else:\n",
    "        gene_coords[i][0] = zdna_coords[i][0] - 400"
   ]
  },
  {
   "cell_type": "code",
   "execution_count": 261,
   "id": "38fc8bff",
   "metadata": {},
   "outputs": [
    {
     "data": {
      "text/plain": [
       "[[1822147, 1822686, '+', 'EDL47154.1'],\n",
       " [2321899, 2322470, '+', 'CAA9990538.1'],\n",
       " [189830, 190412, '+', 'KJP88517.1'],\n",
       " [1880343, 1880926, '+', 'GAB68622.1'],\n",
       " [1594930, 1595531, '+', 'ANQ10540.1']]"
      ]
     },
     "execution_count": 261,
     "metadata": {},
     "output_type": "execute_result"
    }
   ],
   "source": [
    "gene_coords"
   ]
  },
  {
   "cell_type": "code",
   "execution_count": 262,
   "id": "daaaa3e8",
   "metadata": {},
   "outputs": [],
   "source": [
    "for i, _ in enumerate(zdna_coords):\n",
    "    if gene_coords[i][2] == '-':\n",
    "        gene_coords[i][2] = '+'\n",
    "        zdna_coords[i][0] = gene_coords[i][0] - (zdna_coords[i][0] - gene_coords[i][1])\n",
    "        zdna_coords[i][1] = gene_coords[i][0] - (zdna_coords[i][1] - gene_coords[i][1])\n",
    "        zdna_coords[i][:2] = zdna_coords[i][-2:None:-1]"
   ]
  },
  {
   "cell_type": "code",
   "execution_count": 263,
   "id": "c3919124",
   "metadata": {},
   "outputs": [
    {
     "data": {
      "text/plain": [
       "[[1821967, 1821986, 94590.4],\n",
       " [2321754, 2321770, 10894.7],\n",
       " [189693, 189712, 94590.4],\n",
       " [1880207, 1880226, 94590.4],\n",
       " [1594818, 1594831, 3428.52]]"
      ]
     },
     "execution_count": 263,
     "metadata": {},
     "output_type": "execute_result"
    }
   ],
   "source": [
    "zdna_coords"
   ]
  },
  {
   "cell_type": "code",
   "execution_count": 266,
   "id": "7fb118df",
   "metadata": {
    "scrolled": false
   },
   "outputs": [
    {
     "data": {
      "image/png": "[encoded data removed]",
      "text/plain": [
       "<Figure size 864x504 with 5 Axes>"
      ]
     },
     "metadata": {},
     "output_type": "display_data"
    }
   ],
   "source": [
    "fig, ax = plt.subplots(nrows=5, ncols=1 ,figsize=(12, 7))\n",
    "\n",
    "for i in range(5):\n",
    "    record = GraphicRecord(sequence_length=3000000, features=[GraphicFeature(start=gene_coords[i][0], end=gene_coords[i][1], strand=-1 if gene_coords[i][2]=='-' else +1, color=\"#ffd700\", label=gene_coords[i][3].split(\"\\n\")[0]+\" \"+selected_orgs[i]),\n",
    "                                                             GraphicFeature(start=zdna_coords[i][0], end=zdna_coords[i][1], strand=-1 if gene_coords[i][2]=='-' else +1, color=\"#ffd700\", label=f\"z-dna score: {zdna_coords[i][2]}\")])\n",
    "    cropped_record = record.crop((gene_coords[i][0]-300, gene_coords[i][1]+300))\n",
    "    cropped_record.plot(ax=ax[i])\n",
    "plt.savefig(\"clusters.jpg\")"
   ]
  },
  {
   "cell_type": "code",
   "execution_count": null,
   "id": "967117b9",
   "metadata": {},
   "outputs": [],
   "source": []
  }
 ],
 "metadata": {
  "kernelspec": {
   "display_name": "Python 3 (ipykernel)",
   "language": "python",
   "name": "python3"
  },
  "language_info": {
   "codemirror_mode": {
    "name": "ipython",
    "version": 3
   },
   "file_extension": ".py",
   "mimetype": "text/x-python",
   "name": "python",
   "nbconvert_exporter": "python",
   "pygments_lexer": "ipython3",
   "version": "3.8.12"
  }
 },
 "nbformat": 4,
 "nbformat_minor": 5
}
